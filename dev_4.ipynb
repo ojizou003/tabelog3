{
 "cells": [
  {
   "cell_type": "markdown",
   "id": "9f37ae81",
   "metadata": {},
   "source": [
    "# 食べログ つくば"
   ]
  },
  {
   "cell_type": "markdown",
   "id": "96df39ec",
   "metadata": {},
   "source": [
    "## Imports"
   ]
  },
  {
   "cell_type": "code",
   "execution_count": 1,
   "id": "9daea0d9",
   "metadata": {},
   "outputs": [],
   "source": [
    "import requests\n",
    "from bs4 import BeautifulSoup\n",
    "from time import sleep\n",
    "import pickle\n",
    "from tqdm import tqdm\n",
    "import pandas as pd"
   ]
  },
  {
   "cell_type": "markdown",
   "id": "1e19cd67",
   "metadata": {},
   "source": [
    "## listPageのURLリスト作成"
   ]
  },
  {
   "cell_type": "code",
   "execution_count": 2,
   "id": "a0faaab4",
   "metadata": {},
   "outputs": [],
   "source": [
    "pages = range(1, 61)"
   ]
  },
  {
   "cell_type": "code",
   "execution_count": 3,
   "id": "ed799f11",
   "metadata": {},
   "outputs": [],
   "source": [
    "listpages = [f\"https://tabelog.com/ibaraki/A0802/A080201/rstLst/{page}/\" for page in pages]"
   ]
  },
  {
   "cell_type": "markdown",
   "id": "26432bb1",
   "metadata": {},
   "source": [
    "## 詳細ページのURLを取得し、リストを作成"
   ]
  },
  {
   "cell_type": "code",
   "execution_count": 4,
   "id": "111a978a",
   "metadata": {},
   "outputs": [
    {
     "name": "stderr",
     "output_type": "stream",
     "text": [
      "  0%|          | 0/60 [00:00<?, ?it/s]"
     ]
    },
    {
     "name": "stderr",
     "output_type": "stream",
     "text": [
      "100%|██████████| 60/60 [02:09<00:00,  2.15s/it]\n"
     ]
    }
   ],
   "source": [
    "store_url_list = []\n",
    "for page in tqdm(listpages):\n",
    "    response = requests.get(page)\n",
    "    sleep(1)\n",
    "    soup = BeautifulSoup(response.text, 'html.parser')\n",
    "    store_urls = []\n",
    "    for link in soup.select('a.list-rst__rst-name-target'):\n",
    "        store_urls.append(link['href'])\n",
    "    store_url_list.extend(store_urls)"
   ]
  },
  {
   "cell_type": "code",
   "execution_count": 5,
   "id": "56ebb64d",
   "metadata": {},
   "outputs": [],
   "source": [
    "# 一旦保存\n",
    "with open('store_url_list_tsukuba.pkl', 'wb') as f:\n",
    "    pickle.dump(store_url_list, f)"
   ]
  },
  {
   "cell_type": "markdown",
   "id": "eeef419d",
   "metadata": {},
   "source": [
    "## スクレイピング"
   ]
  },
  {
   "cell_type": "code",
   "execution_count": 6,
   "id": "83033fa9",
   "metadata": {},
   "outputs": [
    {
     "name": "stderr",
     "output_type": "stream",
     "text": [
      "100%|██████████| 1200/1200 [34:16<00:00,  1.71s/it]\n"
     ]
    }
   ],
   "source": [
    "data = []\n",
    "for i, store_url in tqdm(enumerate(store_url_list), total=len(store_url_list)):\n",
    "    try:\n",
    "        response = requests.get(store_url)\n",
    "        sleep(1)\n",
    "        soup = BeautifulSoup(response.text, 'html.parser')\n",
    "        details = {\n",
    "            '店名': ' - ',\n",
    "            '住所': ' -',\n",
    "            '電話番号': ' - ',\n",
    "            '予約・お問い合わせ': ' - ',\n",
    "        }\n",
    "        table = soup.find(id='contents-rstdata')\n",
    "        th_elements = table.find_all('th')\n",
    "        td_elements = table.find_all('td')\n",
    "\n",
    "        # テキスト取得\n",
    "        th_texts = [th.text.replace('\\n', '').replace(' ', '') for th in th_elements]\n",
    "        td_texts = [td.text for td in td_elements]\n",
    "\n",
    "        # 辞書マッピング\n",
    "        data_map = dict(zip(th_texts, td_texts))\n",
    "\n",
    "        # データ抽出\n",
    "        details['店名'] = data_map.get('店名', ' - ').replace('\\n', '').strip()\n",
    "        details['住所'] = data_map.get('住所', ' - ').replace('\\n', '').strip().split('大きな地図')[0]\n",
    "        details['電話番号'] = data_map.get('電話番号', ' - ').replace('\\n', '').strip()\n",
    "        details['予約・お問い合わせ'] = data_map.get('予約・お問い合わせ', ' - ').replace('\\n', '').strip()\n",
    "        data.append(details)\n",
    "    except Exception as e:\n",
    "        print(f\"Error processing {i}: {stre_url}: {e}\")\n",
    "        pass"
   ]
  },
  {
   "cell_type": "markdown",
   "id": "9b3495e5",
   "metadata": {},
   "source": [
    "## CSVファイルに書き出し"
   ]
  },
  {
   "cell_type": "code",
   "execution_count": 7,
   "id": "a7975752",
   "metadata": {},
   "outputs": [],
   "source": [
    "df = pd.DataFrame(data)"
   ]
  },
  {
   "cell_type": "code",
   "execution_count": 8,
   "id": "0c820208",
   "metadata": {},
   "outputs": [
    {
     "data": {
      "text/plain": [
       "np.int64(0)"
      ]
     },
     "execution_count": 8,
     "metadata": {},
     "output_type": "execute_result"
    }
   ],
   "source": [
    "df.duplicated().sum()"
   ]
  },
  {
   "cell_type": "code",
   "execution_count": 9,
   "id": "dc9d5504",
   "metadata": {},
   "outputs": [],
   "source": [
    "df.to_csv('tsukuba.csv', index=False, encoding='utf-8-sig')"
   ]
  },
  {
   "cell_type": "code",
   "execution_count": null,
   "id": "e1e466ea",
   "metadata": {},
   "outputs": [],
   "source": []
  }
 ],
 "metadata": {
  "kernelspec": {
   "display_name": ".venv",
   "language": "python",
   "name": "python3"
  },
  "language_info": {
   "codemirror_mode": {
    "name": "ipython",
    "version": 3
   },
   "file_extension": ".py",
   "mimetype": "text/x-python",
   "name": "python",
   "nbconvert_exporter": "python",
   "pygments_lexer": "ipython3",
   "version": "3.11.12"
  }
 },
 "nbformat": 4,
 "nbformat_minor": 5
}
